{
 "cells": [
  {
   "cell_type": "markdown",
   "id": "english-provider",
   "metadata": {},
   "source": [
    "# Conclusion\n",
    "\n",
    "In section 3 and 4, We tried logistic regression, decision tree and random forest parallel operation models on the CIC-IDS-2017 data set through 'spark', and compared the computational performance with similar algorithms in the classic machine learning library 'sklearn'. "
   ]
  },
  {
   "cell_type": "code",
   "execution_count": 2,
   "id": "acceptable-ontario",
   "metadata": {},
   "outputs": [],
   "source": [
    "import pickle\n",
    "import matplotlib as mpl\n",
    "import matplotlib.pyplot as plt"
   ]
  },
  {
   "cell_type": "code",
   "execution_count": 4,
   "id": "baking-monday",
   "metadata": {},
   "outputs": [],
   "source": [
    "time_dt = pickle.load(open('time_dt.p','rb'))\n",
    "time_rf_spark = pickle.load(open('time_rf_spark.p','rb'))\n",
    "time_rf_sklearn = pickle.load(open('time_rf_sklearn.p','rb'))\n",
    "time_lr_sklearn = pickle.load(open('time_single.p','rb'))\n",
    "time_lr_spark = pickle.load(open('time_parallel.p','rb'))"
   ]
  },
  {
   "cell_type": "code",
   "execution_count": 5,
   "id": "activated-address",
   "metadata": {},
   "outputs": [
    {
     "name": "stdout",
     "output_type": "stream",
     "text": [
      "logistic regression by spark cost 54.450724601745605\n",
      "logistic regression by sklearn cost 7.245623826980591\n"
     ]
    }
   ],
   "source": [
    "print('logistic regression by spark cost',time_lr_spark)\n",
    "print('logistic regression by sklearn cost',time_lr_sklearn)"
   ]
  },
  {
   "cell_type": "code",
   "execution_count": 6,
   "id": "affecting-probability",
   "metadata": {},
   "outputs": [
    {
     "name": "stdout",
     "output_type": "stream",
     "text": [
      "decison tree by spark cost 7.913947582244873\n",
      "decison tree by sklearn cost 3.339034080505371\n"
     ]
    }
   ],
   "source": [
    "print('decison tree by spark cost',time_dt[0])\n",
    "print('decison tree by sklearn cost',time_dt[1])"
   ]
  },
  {
   "cell_type": "markdown",
   "id": "dependent-ukraine",
   "metadata": {},
   "source": [
    "We can see that the results of logistic regression and decision tree are abnormal, and the parallel operation takes longer. We guess that this may be because the data set is too small, the similar algorithms in the two libraries are not completely consistent, or the model itself is not suitable for parallel algorithms. "
   ]
  },
  {
   "cell_type": "code",
   "execution_count": 7,
   "id": "laughing-communications",
   "metadata": {},
   "outputs": [
    {
     "data": {
      "image/png": "[encoded data removed]",
      "text/plain": [
       "<Figure size 432x288 with 1 Axes>"
      ]
     },
     "metadata": {
      "needs_background": "light"
     },
     "output_type": "display_data"
    }
   ],
   "source": [
    "x_axix=range(10,101,10)\n",
    "\n",
    "plt.title('Result Analysis')\n",
    "plt.plot(x_axix, time_rf_spark, color='green', label='rf by spark')\n",
    "plt.plot(x_axix, time_rf_sklearn, color='red', label='rf by sklearn')\n",
    "\n",
    "plt.legend() \n",
    "\n",
    "plt.xlabel('number of trees')\n",
    "plt.ylabel('time')\n",
    "plt.show()"
   ]
  },
  {
   "cell_type": "markdown",
   "id": "developmental-temple",
   "metadata": {},
   "source": [
    "But the result of random forest is reasonable. When the number of trees in the random forest increases, that is, the algorithm becomes more complex, the parallel computing in spark has a smaller increase in time. When the number of trees exceeds a certain threshold, the random forest model based on parallel computing has better computing performance.\n",
    "\n",
    "This is well understood, because the random forest is an integration of decision trees. When it contains a lot of trees, parallel operations can better help it run each decision tree at the same time. \n",
    "\n",
    "In short, when the computational load of the model is large or the algorithm principle is suitable for the parallel mechanism, the parallel operation can play a better role. "
   ]
  }
 ],
 "metadata": {
  "kernelspec": {
   "display_name": "Python 3",
   "language": "python",
   "name": "python3"
  },
  "language_info": {
   "codemirror_mode": {
    "name": "ipython",
    "version": 3
   },
   "file_extension": ".py",
   "mimetype": "text/x-python",
   "name": "python",
   "nbconvert_exporter": "python",
   "pygments_lexer": "ipython3",
   "version": "3.6.10"
  }
 },
 "nbformat": 4,
 "nbformat_minor": 5
}
