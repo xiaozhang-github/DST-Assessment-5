{
 "cells": [
  {
   "cell_type": "markdown",
   "id": "successful-replacement",
   "metadata": {},
   "source": [
    "# Introduction\n",
    "\n",
    "In this assessment,we tried logistic regression, decision tree and random forest parallel operation models on the CIC-IDS-2017 data set through 'spark', and compared the computational performance with similar algorithms in the classic machine learning library 'sklearn'.\n",
    "\n",
    "In section 2, we do some simple work about EDA.\n",
    "\n",
    "In section 3, We built a logistic regression model by spark and sklearn.\n",
    "\n",
    "In section 4, We established a decision tree model and a random forest model by spark and sklearn. \n",
    "\n",
    "In section 5, We compared the computational performance of various algorithms in the case of parallel operations and conventional algorithms, and reached a conclusion. "
   ]
  }
 ],
 "metadata": {
  "kernelspec": {
   "display_name": "Python 3",
   "language": "python",
   "name": "python3"
  },
  "language_info": {
   "codemirror_mode": {
    "name": "ipython",
    "version": 3
   },
   "file_extension": ".py",
   "mimetype": "text/x-python",
   "name": "python",
   "nbconvert_exporter": "python",
   "pygments_lexer": "ipython3",
   "version": "3.6.10"
  }
 },
 "nbformat": 4,
 "nbformat_minor": 5
}
